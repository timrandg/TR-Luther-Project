{
 "cells": [
  {
   "cell_type": "markdown",
   "metadata": {},
   "source": [
    "## Train and Evaluate Model"
   ]
  },
  {
   "cell_type": "code",
   "execution_count": 74,
   "metadata": {},
   "outputs": [],
   "source": [
    "import pandas as pd\n",
    "\n",
    "cleaned_data_10 = pd.read_pickle('./pickles/clean_data_10_20181010_205648.pkl')\n",
    "cleaned_data_10.columns = ['CNT', 'YR', 'SUB_REGION', 'log_MORT_RATE', 'log_FORR_AREA',\n",
    "       'log_GPC_ATL', 'log_POP_TOT', 'log_CO2_PERCAP', 'MORT_RATE', 'POP_GRO',\n",
    "       'URB_GRO', 'FER_RATE', 'GDP_GROW', 'IMM_MEAS', 'LIF_EXP',\n",
    "       'TEEN_FER_RATE', 'Australia_and_New_Zealand', 'Central_Asia',\n",
    "       'Eastern_Asia', 'Eastern_Europe', 'Latin_America_and_the_Caribbean',\n",
    "       'Melanesia', 'Micronesia', 'Northern_Africa', 'Northern_America',\n",
    "       'Northern_Europe', 'Polynesia', 'South_eastern_Asia', 'Southern_Asia',\n",
    "       'Southern_Europe', 'Sub_Saharan_Africa', 'Western_Asia',\n",
    "       'Western_Europe']"
   ]
  },
  {
   "cell_type": "code",
   "execution_count": 75,
   "metadata": {},
   "outputs": [
    {
     "data": {
      "text/html": [
       "<div>\n",
       "<style scoped>\n",
       "    .dataframe tbody tr th:only-of-type {\n",
       "        vertical-align: middle;\n",
       "    }\n",
       "\n",
       "    .dataframe tbody tr th {\n",
       "        vertical-align: top;\n",
       "    }\n",
       "\n",
       "    .dataframe thead th {\n",
       "        text-align: right;\n",
       "    }\n",
       "</style>\n",
       "<table border=\"1\" class=\"dataframe\">\n",
       "  <thead>\n",
       "    <tr style=\"text-align: right;\">\n",
       "      <th></th>\n",
       "      <th>CNT</th>\n",
       "      <th>YR</th>\n",
       "      <th>SUB_REGION</th>\n",
       "      <th>log_MORT_RATE</th>\n",
       "      <th>log_FORR_AREA</th>\n",
       "      <th>log_GPC_ATL</th>\n",
       "      <th>log_POP_TOT</th>\n",
       "      <th>log_CO2_PERCAP</th>\n",
       "      <th>MORT_RATE</th>\n",
       "      <th>POP_GRO</th>\n",
       "      <th>...</th>\n",
       "      <th>Northern_Africa</th>\n",
       "      <th>Northern_America</th>\n",
       "      <th>Northern_Europe</th>\n",
       "      <th>Polynesia</th>\n",
       "      <th>South_eastern_Asia</th>\n",
       "      <th>Southern_Asia</th>\n",
       "      <th>Southern_Europe</th>\n",
       "      <th>Sub_Saharan_Africa</th>\n",
       "      <th>Western_Asia</th>\n",
       "      <th>Western_Europe</th>\n",
       "    </tr>\n",
       "  </thead>\n",
       "  <tbody>\n",
       "    <tr>\n",
       "      <th>0</th>\n",
       "      <td>ARM</td>\n",
       "      <td>2017.0</td>\n",
       "      <td>Western Asia</td>\n",
       "      <td>2.564949</td>\n",
       "      <td>1.223775</td>\n",
       "      <td>8.294050</td>\n",
       "      <td>1.075002</td>\n",
       "      <td>0.641854</td>\n",
       "      <td>13.0</td>\n",
       "      <td>0.2</td>\n",
       "      <td>...</td>\n",
       "      <td>0.0</td>\n",
       "      <td>0.0</td>\n",
       "      <td>0.0</td>\n",
       "      <td>0.0</td>\n",
       "      <td>0.0</td>\n",
       "      <td>0.0</td>\n",
       "      <td>0.0</td>\n",
       "      <td>0.0</td>\n",
       "      <td>1.0</td>\n",
       "      <td>0.0</td>\n",
       "    </tr>\n",
       "    <tr>\n",
       "      <th>1</th>\n",
       "      <td>EGY</td>\n",
       "      <td>2017.0</td>\n",
       "      <td>Northern Africa</td>\n",
       "      <td>3.091042</td>\n",
       "      <td>-0.223144</td>\n",
       "      <td>8.009695</td>\n",
       "      <td>4.580365</td>\n",
       "      <td>0.788457</td>\n",
       "      <td>22.0</td>\n",
       "      <td>1.9</td>\n",
       "      <td>...</td>\n",
       "      <td>1.0</td>\n",
       "      <td>0.0</td>\n",
       "      <td>0.0</td>\n",
       "      <td>0.0</td>\n",
       "      <td>0.0</td>\n",
       "      <td>0.0</td>\n",
       "      <td>0.0</td>\n",
       "      <td>0.0</td>\n",
       "      <td>0.0</td>\n",
       "      <td>0.0</td>\n",
       "    </tr>\n",
       "    <tr>\n",
       "      <th>2</th>\n",
       "      <td>KAZ</td>\n",
       "      <td>2017.0</td>\n",
       "      <td>Central Asia</td>\n",
       "      <td>2.302585</td>\n",
       "      <td>3.502550</td>\n",
       "      <td>8.973351</td>\n",
       "      <td>2.892592</td>\n",
       "      <td>2.664447</td>\n",
       "      <td>10.0</td>\n",
       "      <td>1.4</td>\n",
       "      <td>...</td>\n",
       "      <td>0.0</td>\n",
       "      <td>0.0</td>\n",
       "      <td>0.0</td>\n",
       "      <td>0.0</td>\n",
       "      <td>0.0</td>\n",
       "      <td>0.0</td>\n",
       "      <td>0.0</td>\n",
       "      <td>0.0</td>\n",
       "      <td>0.0</td>\n",
       "      <td>0.0</td>\n",
       "    </tr>\n",
       "    <tr>\n",
       "      <th>3</th>\n",
       "      <td>MEX</td>\n",
       "      <td>2017.0</td>\n",
       "      <td>Latin America and the Caribbean</td>\n",
       "      <td>2.564949</td>\n",
       "      <td>6.492997</td>\n",
       "      <td>9.060680</td>\n",
       "      <td>4.861052</td>\n",
       "      <td>1.353255</td>\n",
       "      <td>13.0</td>\n",
       "      <td>1.3</td>\n",
       "      <td>...</td>\n",
       "      <td>0.0</td>\n",
       "      <td>0.0</td>\n",
       "      <td>0.0</td>\n",
       "      <td>0.0</td>\n",
       "      <td>0.0</td>\n",
       "      <td>0.0</td>\n",
       "      <td>0.0</td>\n",
       "      <td>0.0</td>\n",
       "      <td>0.0</td>\n",
       "      <td>0.0</td>\n",
       "    </tr>\n",
       "    <tr>\n",
       "      <th>4</th>\n",
       "      <td>ZAF</td>\n",
       "      <td>2017.0</td>\n",
       "      <td>Sub-Saharan Africa</td>\n",
       "      <td>3.610918</td>\n",
       "      <td>4.527209</td>\n",
       "      <td>8.599694</td>\n",
       "      <td>4.038127</td>\n",
       "      <td>2.195000</td>\n",
       "      <td>37.0</td>\n",
       "      <td>1.2</td>\n",
       "      <td>...</td>\n",
       "      <td>0.0</td>\n",
       "      <td>0.0</td>\n",
       "      <td>0.0</td>\n",
       "      <td>0.0</td>\n",
       "      <td>0.0</td>\n",
       "      <td>0.0</td>\n",
       "      <td>0.0</td>\n",
       "      <td>1.0</td>\n",
       "      <td>0.0</td>\n",
       "      <td>0.0</td>\n",
       "    </tr>\n",
       "  </tbody>\n",
       "</table>\n",
       "<p>5 rows × 33 columns</p>\n",
       "</div>"
      ],
      "text/plain": [
       "   CNT      YR                       SUB_REGION  log_MORT_RATE  log_FORR_AREA  \\\n",
       "0  ARM  2017.0                     Western Asia       2.564949       1.223775   \n",
       "1  EGY  2017.0                  Northern Africa       3.091042      -0.223144   \n",
       "2  KAZ  2017.0                     Central Asia       2.302585       3.502550   \n",
       "3  MEX  2017.0  Latin America and the Caribbean       2.564949       6.492997   \n",
       "4  ZAF  2017.0               Sub-Saharan Africa       3.610918       4.527209   \n",
       "\n",
       "   log_GPC_ATL  log_POP_TOT  log_CO2_PERCAP  MORT_RATE  POP_GRO  \\\n",
       "0     8.294050     1.075002        0.641854       13.0      0.2   \n",
       "1     8.009695     4.580365        0.788457       22.0      1.9   \n",
       "2     8.973351     2.892592        2.664447       10.0      1.4   \n",
       "3     9.060680     4.861052        1.353255       13.0      1.3   \n",
       "4     8.599694     4.038127        2.195000       37.0      1.2   \n",
       "\n",
       "        ...        Northern_Africa  Northern_America  Northern_Europe  \\\n",
       "0       ...                    0.0               0.0              0.0   \n",
       "1       ...                    1.0               0.0              0.0   \n",
       "2       ...                    0.0               0.0              0.0   \n",
       "3       ...                    0.0               0.0              0.0   \n",
       "4       ...                    0.0               0.0              0.0   \n",
       "\n",
       "   Polynesia  South_eastern_Asia  Southern_Asia  Southern_Europe  \\\n",
       "0        0.0                 0.0            0.0              0.0   \n",
       "1        0.0                 0.0            0.0              0.0   \n",
       "2        0.0                 0.0            0.0              0.0   \n",
       "3        0.0                 0.0            0.0              0.0   \n",
       "4        0.0                 0.0            0.0              0.0   \n",
       "\n",
       "   Sub_Saharan_Africa  Western_Asia  Western_Europe  \n",
       "0                 0.0           1.0             0.0  \n",
       "1                 0.0           0.0             0.0  \n",
       "2                 0.0           0.0             0.0  \n",
       "3                 0.0           0.0             0.0  \n",
       "4                 1.0           0.0             0.0  \n",
       "\n",
       "[5 rows x 33 columns]"
      ]
     },
     "execution_count": 75,
     "metadata": {},
     "output_type": "execute_result"
    }
   ],
   "source": [
    "cleaned_data_10.head()"
   ]
  },
  {
   "cell_type": "markdown",
   "metadata": {},
   "source": [
    "## Linear Regression on log_GPC_ATL and log_MORT_RATE"
   ]
  },
  {
   "cell_type": "code",
   "execution_count": 153,
   "metadata": {},
   "outputs": [
    {
     "name": "stdout",
     "output_type": "stream",
     "text": [
      "                            OLS Regression Results                            \n",
      "==============================================================================\n",
      "Dep. Variable:          log_MORT_RATE   R-squared:                       0.812\n",
      "Model:                            OLS   Adj. R-squared:                  0.811\n",
      "Method:                 Least Squares   F-statistic:                     2497.\n",
      "Date:                Thu, 11 Oct 2018   Prob (F-statistic):          3.90e-212\n",
      "Time:                        21:44:57   Log-Likelihood:                -442.26\n",
      "No. Observations:                 581   AIC:                             888.5\n",
      "Df Residuals:                     579   BIC:                             897.3\n",
      "Df Model:                           1                                         \n",
      "Covariance Type:            nonrobust                                         \n",
      "===============================================================================\n",
      "                  coef    std err          t      P>|t|      [0.025      0.975]\n",
      "-------------------------------------------------------------------------------\n",
      "Intercept       8.6333      0.110     78.184      0.000       8.416       8.850\n",
      "log_GPC_ATL    -0.6710      0.013    -49.970      0.000      -0.697      -0.645\n",
      "==============================================================================\n",
      "Omnibus:                        9.373   Durbin-Watson:                   1.748\n",
      "Prob(Omnibus):                  0.009   Jarque-Bera (JB):               11.607\n",
      "Skew:                           0.185   Prob(JB):                      0.00302\n",
      "Kurtosis:                       3.585   Cond. No.                         42.8\n",
      "==============================================================================\n",
      "\n",
      "Warnings:\n",
      "[1] Standard Errors assume that the covariance matrix of the errors is correctly specified.\n"
     ]
    }
   ],
   "source": [
    "import numpy as np\n",
    "import statsmodels.api as sm\n",
    "import statsmodels.formula.api as smf\n",
    "\n",
    "\n",
    "\n",
    "# Fit regression model (using the natural log of one of the regressors)\n",
    "results = smf.ols('log_MORT_RATE ~ log_GPC_ATL' , data=cleaned_data_10).fit()\n",
    "\n",
    "# Inspect the results\n",
    "print(results.summary())"
   ]
  },
  {
   "cell_type": "code",
   "execution_count": 154,
   "metadata": {
    "scrolled": true
   },
   "outputs": [
    {
     "name": "stdout",
     "output_type": "stream",
     "text": [
      "                            OLS Regression Results                            \n",
      "==============================================================================\n",
      "Dep. Variable:          log_MORT_RATE   R-squared:                       0.921\n",
      "Model:                            OLS   Adj. R-squared:                  0.920\n",
      "Method:                 Least Squares   F-statistic:                     959.6\n",
      "Date:                Thu, 11 Oct 2018   Prob (F-statistic):          1.18e-311\n",
      "Time:                        21:45:07   Log-Likelihood:                -188.55\n",
      "No. Observations:                 581   AIC:                             393.1\n",
      "Df Residuals:                     573   BIC:                             428.0\n",
      "Df Model:                           7                                         \n",
      "Covariance Type:            nonrobust                                         \n",
      "======================================================================================\n",
      "                         coef    std err          t      P>|t|      [0.025      0.975]\n",
      "--------------------------------------------------------------------------------------\n",
      "Intercept              8.8469      0.274     32.253      0.000       8.308       9.386\n",
      "LIF_EXP               -0.0556      0.004    -13.862      0.000      -0.063      -0.048\n",
      "FER_RATE               0.0956      0.019      4.956      0.000       0.058       0.133\n",
      "TEEN_FER_RATE          0.0034      0.001      6.031      0.000       0.002       0.004\n",
      "Sub_Saharan_Africa    -0.2267      0.054     -4.215      0.000      -0.332      -0.121\n",
      "IMM_MEAS              -0.0004      0.001     -0.358      0.721      -0.003       0.002\n",
      "log_GPC_ATL           -0.2771      0.017    -16.275      0.000      -0.311      -0.244\n",
      "GDP_GROW               0.0060      0.003      1.746      0.081      -0.001       0.013\n",
      "==============================================================================\n",
      "Omnibus:                        5.658   Durbin-Watson:                   1.657\n",
      "Prob(Omnibus):                  0.059   Jarque-Bera (JB):                5.485\n",
      "Skew:                          -0.216   Prob(JB):                       0.0644\n",
      "Kurtosis:                       3.199   Cond. No.                     2.47e+03\n",
      "==============================================================================\n",
      "\n",
      "Warnings:\n",
      "[1] Standard Errors assume that the covariance matrix of the errors is correctly specified.\n",
      "[2] The condition number is large, 2.47e+03. This might indicate that there are\n",
      "strong multicollinearity or other numerical problems.\n"
     ]
    }
   ],
   "source": [
    "import numpy as np\n",
    "import statsmodels.api as sm\n",
    "import statsmodels.formula.api as smf\n",
    "\n",
    "\n",
    "\n",
    "# Fit regression model (using the natural log of one of the regressors)\n",
    "results = smf.ols('log_MORT_RATE ~ LIF_EXP + FER_RATE + TEEN_FER_RATE + Sub_Saharan_Africa + IMM_MEAS + log_GPC_ATL + GDP_GROW' , data=cleaned_data_10).fit()\n",
    "\n",
    "# Inspect the results\n",
    "print(results.summary())"
   ]
  },
  {
   "cell_type": "markdown",
   "metadata": {},
   "source": [
    "## What happens to F-statistic if we fit a feature with no predictive value (like GDP growth which has no correlation with MORT_RATE judging by eye). "
   ]
  },
  {
   "cell_type": "code",
   "execution_count": 155,
   "metadata": {},
   "outputs": [
    {
     "data": {
      "text/plain": [
       "'./images/GDP_GROW_vs_MORT_RATE.png'"
      ]
     },
     "execution_count": 155,
     "metadata": {},
     "output_type": "execute_result"
    }
   ],
   "source": [
    "'./images/GDP_GROW_vs_MORT_RATE.png'"
   ]
  },
  {
   "cell_type": "code",
   "execution_count": 156,
   "metadata": {},
   "outputs": [
    {
     "name": "stdout",
     "output_type": "stream",
     "text": [
      "                            OLS Regression Results                            \n",
      "==============================================================================\n",
      "Dep. Variable:              MORT_RATE   R-squared:                       0.002\n",
      "Model:                            OLS   Adj. R-squared:                 -0.000\n",
      "Method:                 Least Squares   F-statistic:                    0.8842\n",
      "Date:                Thu, 11 Oct 2018   Prob (F-statistic):              0.347\n",
      "Time:                        21:45:29   Log-Likelihood:                -3126.5\n",
      "No. Observations:                 581   AIC:                             6257.\n",
      "Df Residuals:                     579   BIC:                             6266.\n",
      "Df Model:                           1                                         \n",
      "Covariance Type:            nonrobust                                         \n",
      "==============================================================================\n",
      "                 coef    std err          t      P>|t|      [0.025      0.975]\n",
      "------------------------------------------------------------------------------\n",
      "Intercept     49.1991      2.935     16.762      0.000      43.434      54.964\n",
      "GDP_GROW      -0.4985      0.530     -0.940      0.347      -1.540       0.543\n",
      "==============================================================================\n",
      "Omnibus:                      188.051   Durbin-Watson:                   1.147\n",
      "Prob(Omnibus):                  0.000   Jarque-Bera (JB):              464.941\n",
      "Skew:                           1.677   Prob(JB):                    1.09e-101\n",
      "Kurtosis:                       5.821   Cond. No.                         7.55\n",
      "==============================================================================\n",
      "\n",
      "Warnings:\n",
      "[1] Standard Errors assume that the covariance matrix of the errors is correctly specified.\n"
     ]
    }
   ],
   "source": [
    "# Fit regression model (using the natural log of one of the regressors)\n",
    "results = smf.ols('MORT_RATE ~ GDP_GROW', data=cleaned_data_10).fit()\n",
    "\n",
    "# Inspect the results\n",
    "print(results.summary())"
   ]
  },
  {
   "cell_type": "code",
   "execution_count": 157,
   "metadata": {},
   "outputs": [
    {
     "name": "stdout",
     "output_type": "stream",
     "text": [
      "418.4326\n",
      "log_MORT_RATE ~ LIF_EXP + FER_RATE + TEEN_FER_RATE + Sub_Saharan_Africa + log_GPC_ATL\n"
     ]
    }
   ],
   "source": [
    "from itertools import combinations \n",
    "\n",
    "#1. put considered features into a list\n",
    "aic_trials = ['POP_GRO','URB_GRO', 'FER_RATE', 'GDP_GROW', 'IMM_MEAS', 'LIF_EXP','TEEN_FER_RATE']\n",
    "\n",
    "aic_trials2 = ['LIF_EXP','FER_RATE','TEEN_FER_RATE','Sub_Saharan_Africa','IMM_MEAS','log_POP_TOT','log_GPC_ATL', 'GDP_GROW','log_FORR_AREA']\n",
    "\n",
    "\n",
    "def all_combos_levels(trial_list):\n",
    "    \"\"\"\n",
    "    Takes a list of features and returns patsy strings of every combination. Versus the hardcoded Y. In this case the Y\n",
    "    is log_MORT_RATE. The strings generated are packaged into a list, which is returned. This list can be used\n",
    "    as a parameter for best_combo() to pick the lowest BIC for the system. \n",
    "    \"\"\"\n",
    "    collection = []\n",
    "    for i in range(1,len(trial_list)+1):\n",
    "        collection = collection + list(combinations(trial_list, i))\n",
    "        combos_as_lists = [list(x) for x in collection]\n",
    "    collection = []\n",
    "    for a_combo in combos_as_lists: \n",
    "        middle = ' + '.join(a_combo) \n",
    "        out = f'log_MORT_RATE ~ {middle}'\n",
    "        collection.append(out)\n",
    "    return collection\n",
    "        \n",
    "def best_combo(patsy_list, whole_list=False):\n",
    "    \"\"\"\n",
    "    Takes a list of columns names that might be used in the model. It is good to include some negative control\n",
    "    columns (which do not look like good linear model feature candidates). The effect of BIC minimization can \n",
    "    be judged by selection of more linear features, and exclusion of blob-like or skewed features.\n",
    "    This function returns either the entire BIC scored feature set, if whole_list=True, or just returns the features\n",
    "    with the lowest BIC score in tuple form, where t[0] provides the BIC score, and t[1] provides the feature string.\n",
    "    \"\"\"\n",
    "    collection = []\n",
    "    for item in all_combos_levels(patsy_list):\n",
    "        results = smf.ols(item, data=cleaned_data_10).fit() \n",
    "        collection.append((round(results.bic, 4), item))\n",
    "    out = sorted(collection, key=lambda x : x[0], reverse=False)\n",
    "    if whole_list :\n",
    "        return(out)\n",
    "    else:\n",
    "        return(out[0])\n",
    "\n",
    "#3. select the best available AIC from all combination of features.    str(round(answer, 2))\n",
    "    \n",
    "#my-model\n",
    "\n",
    "out = best_combo(aic_trials2, whole_list=False)\n",
    "for o in out:\n",
    "    print(o)\n",
    "\n",
    "#best for MORT_RATE with aic_trials2    \n",
    "#(4982.721321568792, 'MORT_RATE ~ LIF_EXP + FER_RATE + TEEN_FER_RATE + Sub_Saharan_Africa + IMM_MEAS + log_GPC_ATL')    \n",
    "    \n",
    "#best for log_MORT_RATE with aic_trials2    \n",
    "#(391.2332055194836, 'log_MORT_RATE ~ LIF_EXP + FER_RATE + TEEN_FER_RATE + Sub_Saharan_Africa + log_GPC_ATL + GDP_GROW')\n",
    "\n",
    "#print(all_combos_levels(aic_trials2)[0:20])"
   ]
  },
  {
   "cell_type": "code",
   "execution_count": 148,
   "metadata": {},
   "outputs": [],
   "source": [
    "combo_list = all_combos_levels(aic_trials2)"
   ]
  },
  {
   "cell_type": "code",
   "execution_count": 119,
   "metadata": {},
   "outputs": [
    {
     "data": {
      "text/plain": [
       "['log_MORT_RATE ~ LIF_EXP',\n",
       " 'log_MORT_RATE ~ FER_RATE',\n",
       " 'log_MORT_RATE ~ TEEN_FER_RATE',\n",
       " 'log_MORT_RATE ~ Sub_Saharan_Africa',\n",
       " 'log_MORT_RATE ~ IMM_MEAS',\n",
       " 'log_MORT_RATE ~ log_POP_TOT',\n",
       " 'log_MORT_RATE ~ log_GPC_ATL',\n",
       " 'log_MORT_RATE ~ GDP_GROW',\n",
       " 'log_MORT_RATE ~ log_FORR_AREA',\n",
       " 'log_MORT_RATE ~ LIF_EXP + FER_RATE']"
      ]
     },
     "execution_count": 119,
     "metadata": {},
     "output_type": "execute_result"
    }
   ],
   "source": []
  },
  {
   "cell_type": "code",
   "execution_count": 120,
   "metadata": {},
   "outputs": [
    {
     "data": {
      "text/plain": [
       "['log_MORT_RATE ~ LIF_EXP + FER_RATE + TEEN_FER_RATE + Sub_Saharan_Africa + IMM_MEAS + log_POP_TOT + log_GPC_ATL + GDP_GROW',\n",
       " 'log_MORT_RATE ~ LIF_EXP + FER_RATE + TEEN_FER_RATE + Sub_Saharan_Africa + IMM_MEAS + log_POP_TOT + log_GPC_ATL + log_FORR_AREA',\n",
       " 'log_MORT_RATE ~ LIF_EXP + FER_RATE + TEEN_FER_RATE + Sub_Saharan_Africa + IMM_MEAS + log_POP_TOT + GDP_GROW + log_FORR_AREA',\n",
       " 'log_MORT_RATE ~ LIF_EXP + FER_RATE + TEEN_FER_RATE + Sub_Saharan_Africa + IMM_MEAS + log_GPC_ATL + GDP_GROW + log_FORR_AREA',\n",
       " 'log_MORT_RATE ~ LIF_EXP + FER_RATE + TEEN_FER_RATE + Sub_Saharan_Africa + log_POP_TOT + log_GPC_ATL + GDP_GROW + log_FORR_AREA',\n",
       " 'log_MORT_RATE ~ LIF_EXP + FER_RATE + TEEN_FER_RATE + IMM_MEAS + log_POP_TOT + log_GPC_ATL + GDP_GROW + log_FORR_AREA',\n",
       " 'log_MORT_RATE ~ LIF_EXP + FER_RATE + Sub_Saharan_Africa + IMM_MEAS + log_POP_TOT + log_GPC_ATL + GDP_GROW + log_FORR_AREA',\n",
       " 'log_MORT_RATE ~ LIF_EXP + TEEN_FER_RATE + Sub_Saharan_Africa + IMM_MEAS + log_POP_TOT + log_GPC_ATL + GDP_GROW + log_FORR_AREA',\n",
       " 'log_MORT_RATE ~ FER_RATE + TEEN_FER_RATE + Sub_Saharan_Africa + IMM_MEAS + log_POP_TOT + log_GPC_ATL + GDP_GROW + log_FORR_AREA']"
      ]
     },
     "execution_count": 120,
     "metadata": {},
     "output_type": "execute_result"
    }
   ],
   "source": [
    "combo_list[-10:-1]"
   ]
  },
  {
   "cell_type": "code",
   "execution_count": 150,
   "metadata": {},
   "outputs": [],
   "source": [
    "results = smf.ols('log_MORT_RATE ~ LIF_EXP + FER_RATE + TEEN_FER_RATE + Sub_Saharan_Africa + log_GPC_ATL', data=cleaned_data_10).fit()"
   ]
  },
  {
   "cell_type": "code",
   "execution_count": 152,
   "metadata": {},
   "outputs": [
    {
     "data": {
      "text/html": [
       "<table class=\"simpletable\">\n",
       "<caption>OLS Regression Results</caption>\n",
       "<tr>\n",
       "  <th>Dep. Variable:</th>      <td>log_MORT_RATE</td>  <th>  R-squared:         </th> <td>   0.921</td> \n",
       "</tr>\n",
       "<tr>\n",
       "  <th>Model:</th>                   <td>OLS</td>       <th>  Adj. R-squared:    </th> <td>   0.920</td> \n",
       "</tr>\n",
       "<tr>\n",
       "  <th>Method:</th>             <td>Least Squares</td>  <th>  F-statistic:       </th> <td>   1340.</td> \n",
       "</tr>\n",
       "<tr>\n",
       "  <th>Date:</th>             <td>Thu, 11 Oct 2018</td> <th>  Prob (F-statistic):</th> <td>4.13e-314</td>\n",
       "</tr>\n",
       "<tr>\n",
       "  <th>Time:</th>                 <td>21:41:37</td>     <th>  Log-Likelihood:    </th> <td> -190.12</td> \n",
       "</tr>\n",
       "<tr>\n",
       "  <th>No. Observations:</th>      <td>   581</td>      <th>  AIC:               </th> <td>   392.2</td> \n",
       "</tr>\n",
       "<tr>\n",
       "  <th>Df Residuals:</th>          <td>   575</td>      <th>  BIC:               </th> <td>   418.4</td> \n",
       "</tr>\n",
       "<tr>\n",
       "  <th>Df Model:</th>              <td>     5</td>      <th>                     </th>     <td> </td>    \n",
       "</tr>\n",
       "<tr>\n",
       "  <th>Covariance Type:</th>      <td>nonrobust</td>    <th>                     </th>     <td> </td>    \n",
       "</tr>\n",
       "</table>\n",
       "<table class=\"simpletable\">\n",
       "<tr>\n",
       "           <td></td>             <th>coef</th>     <th>std err</th>      <th>t</th>      <th>P>|t|</th>  <th>[0.025</th>    <th>0.975]</th>  \n",
       "</tr>\n",
       "<tr>\n",
       "  <th>Intercept</th>          <td>    8.8525</td> <td>    0.264</td> <td>   33.582</td> <td> 0.000</td> <td>    8.335</td> <td>    9.370</td>\n",
       "</tr>\n",
       "<tr>\n",
       "  <th>LIF_EXP</th>            <td>   -0.0555</td> <td>    0.004</td> <td>  -14.110</td> <td> 0.000</td> <td>   -0.063</td> <td>   -0.048</td>\n",
       "</tr>\n",
       "<tr>\n",
       "  <th>FER_RATE</th>           <td>    0.0955</td> <td>    0.019</td> <td>    5.066</td> <td> 0.000</td> <td>    0.058</td> <td>    0.133</td>\n",
       "</tr>\n",
       "<tr>\n",
       "  <th>TEEN_FER_RATE</th>      <td>    0.0033</td> <td>    0.001</td> <td>    6.021</td> <td> 0.000</td> <td>    0.002</td> <td>    0.004</td>\n",
       "</tr>\n",
       "<tr>\n",
       "  <th>Sub_Saharan_Africa</th> <td>   -0.2210</td> <td>    0.053</td> <td>   -4.140</td> <td> 0.000</td> <td>   -0.326</td> <td>   -0.116</td>\n",
       "</tr>\n",
       "<tr>\n",
       "  <th>log_GPC_ATL</th>        <td>   -0.2806</td> <td>    0.017</td> <td>  -16.672</td> <td> 0.000</td> <td>   -0.314</td> <td>   -0.248</td>\n",
       "</tr>\n",
       "</table>\n",
       "<table class=\"simpletable\">\n",
       "<tr>\n",
       "  <th>Omnibus:</th>       <td> 5.664</td> <th>  Durbin-Watson:     </th> <td>   1.655</td>\n",
       "</tr>\n",
       "<tr>\n",
       "  <th>Prob(Omnibus):</th> <td> 0.059</td> <th>  Jarque-Bera (JB):  </th> <td>   5.480</td>\n",
       "</tr>\n",
       "<tr>\n",
       "  <th>Skew:</th>          <td>-0.222</td> <th>  Prob(JB):          </th> <td>  0.0646</td>\n",
       "</tr>\n",
       "<tr>\n",
       "  <th>Kurtosis:</th>      <td> 3.169</td> <th>  Cond. No.          </th> <td>1.81e+03</td>\n",
       "</tr>\n",
       "</table><br/><br/>Warnings:<br/>[1] Standard Errors assume that the covariance matrix of the errors is correctly specified.<br/>[2] The condition number is large, 1.81e+03. This might indicate that there are<br/>strong multicollinearity or other numerical problems."
      ],
      "text/plain": [
       "<class 'statsmodels.iolib.summary.Summary'>\n",
       "\"\"\"\n",
       "                            OLS Regression Results                            \n",
       "==============================================================================\n",
       "Dep. Variable:          log_MORT_RATE   R-squared:                       0.921\n",
       "Model:                            OLS   Adj. R-squared:                  0.920\n",
       "Method:                 Least Squares   F-statistic:                     1340.\n",
       "Date:                Thu, 11 Oct 2018   Prob (F-statistic):          4.13e-314\n",
       "Time:                        21:41:37   Log-Likelihood:                -190.12\n",
       "No. Observations:                 581   AIC:                             392.2\n",
       "Df Residuals:                     575   BIC:                             418.4\n",
       "Df Model:                           5                                         \n",
       "Covariance Type:            nonrobust                                         \n",
       "======================================================================================\n",
       "                         coef    std err          t      P>|t|      [0.025      0.975]\n",
       "--------------------------------------------------------------------------------------\n",
       "Intercept              8.8525      0.264     33.582      0.000       8.335       9.370\n",
       "LIF_EXP               -0.0555      0.004    -14.110      0.000      -0.063      -0.048\n",
       "FER_RATE               0.0955      0.019      5.066      0.000       0.058       0.133\n",
       "TEEN_FER_RATE          0.0033      0.001      6.021      0.000       0.002       0.004\n",
       "Sub_Saharan_Africa    -0.2210      0.053     -4.140      0.000      -0.326      -0.116\n",
       "log_GPC_ATL           -0.2806      0.017    -16.672      0.000      -0.314      -0.248\n",
       "==============================================================================\n",
       "Omnibus:                        5.664   Durbin-Watson:                   1.655\n",
       "Prob(Omnibus):                  0.059   Jarque-Bera (JB):                5.480\n",
       "Skew:                          -0.222   Prob(JB):                       0.0646\n",
       "Kurtosis:                       3.169   Cond. No.                     1.81e+03\n",
       "==============================================================================\n",
       "\n",
       "Warnings:\n",
       "[1] Standard Errors assume that the covariance matrix of the errors is correctly specified.\n",
       "[2] The condition number is large, 1.81e+03. This might indicate that there are\n",
       "strong multicollinearity or other numerical problems.\n",
       "\"\"\""
      ]
     },
     "execution_count": 152,
     "metadata": {},
     "output_type": "execute_result"
    }
   ],
   "source": [
    "results.summary()"
   ]
  },
  {
   "cell_type": "code",
   "execution_count": null,
   "metadata": {},
   "outputs": [],
   "source": []
  },
  {
   "cell_type": "code",
   "execution_count": null,
   "metadata": {},
   "outputs": [],
   "source": [
    "## Addition of np.power(,2) and np.log() to selected terms improves the model by a little according to R^2adj, BIC"
   ]
  },
  {
   "cell_type": "code",
   "execution_count": 144,
   "metadata": {},
   "outputs": [],
   "source": [
    "results = smf.ols('log_MORT_RATE ~ np.power(LIF_EXP,2) + np.log(FER_RATE) + np.log(TEEN_FER_RATE) + Sub_Saharan_Africa + log_GPC_ATL', data=cleaned_data_10).fit()"
   ]
  },
  {
   "cell_type": "code",
   "execution_count": 146,
   "metadata": {},
   "outputs": [
    {
     "name": "stdout",
     "output_type": "stream",
     "text": [
      "                            OLS Regression Results                            \n",
      "==============================================================================\n",
      "Dep. Variable:          log_MORT_RATE   R-squared:                       0.942\n",
      "Model:                            OLS   Adj. R-squared:                  0.941\n",
      "Method:                 Least Squares   F-statistic:                     1867.\n",
      "Date:                Thu, 11 Oct 2018   Prob (F-statistic):               0.00\n",
      "Time:                        21:25:13   Log-Likelihood:                -100.37\n",
      "No. Observations:                 581   AIC:                             212.7\n",
      "Df Residuals:                     575   BIC:                             238.9\n",
      "Df Model:                           5                                         \n",
      "Covariance Type:            nonrobust                                         \n",
      "=========================================================================================\n",
      "                            coef    std err          t      P>|t|      [0.025      0.975]\n",
      "-----------------------------------------------------------------------------------------\n",
      "Intercept                 5.9024      0.180     32.880      0.000       5.550       6.255\n",
      "np.power(LIF_EXP, 2)     -0.0005   2.66e-05    -17.260      0.000      -0.001      -0.000\n",
      "np.log(FER_RATE)          0.4832      0.047     10.214      0.000       0.390       0.576\n",
      "np.log(TEEN_FER_RATE)     0.1797      0.021      8.683      0.000       0.139       0.220\n",
      "Sub_Saharan_Africa       -0.2149      0.044     -4.882      0.000      -0.301      -0.128\n",
      "log_GPC_ATL              -0.1944      0.016    -12.325      0.000      -0.225      -0.163\n",
      "==============================================================================\n",
      "Omnibus:                        7.402   Durbin-Watson:                   1.731\n",
      "Prob(Omnibus):                  0.025   Jarque-Bera (JB):                8.812\n",
      "Skew:                          -0.158   Prob(JB):                       0.0122\n",
      "Kurtosis:                       3.514   Cond. No.                     7.51e+04\n",
      "==============================================================================\n",
      "\n",
      "Warnings:\n",
      "[1] Standard Errors assume that the covariance matrix of the errors is correctly specified.\n",
      "[2] The condition number is large, 7.51e+04. This might indicate that there are\n",
      "strong multicollinearity or other numerical problems.\n"
     ]
    }
   ],
   "source": [
    "print(results.summary())"
   ]
  },
  {
   "cell_type": "code",
   "execution_count": 145,
   "metadata": {},
   "outputs": [
    {
     "data": {
      "text/plain": [
       "Intercept                5.902379\n",
       "np.power(LIF_EXP, 2)    -0.000460\n",
       "np.log(FER_RATE)         0.483231\n",
       "np.log(TEEN_FER_RATE)    0.179653\n",
       "Sub_Saharan_Africa      -0.214864\n",
       "log_GPC_ATL             -0.194434\n",
       "dtype: float64"
      ]
     },
     "execution_count": 145,
     "metadata": {},
     "output_type": "execute_result"
    }
   ],
   "source": [
    "results.params"
   ]
  },
  {
   "cell_type": "markdown",
   "metadata": {},
   "source": [
    "## Train/Test Set Cross Validation"
   ]
  },
  {
   "cell_type": "code",
   "execution_count": null,
   "metadata": {},
   "outputs": [],
   "source": []
  }
 ],
 "metadata": {
  "kernelspec": {
   "display_name": "Python 3",
   "language": "python",
   "name": "python3"
  },
  "language_info": {
   "codemirror_mode": {
    "name": "ipython",
    "version": 3
   },
   "file_extension": ".py",
   "mimetype": "text/x-python",
   "name": "python",
   "nbconvert_exporter": "python",
   "pygments_lexer": "ipython3",
   "version": "3.6.5"
  }
 },
 "nbformat": 4,
 "nbformat_minor": 2
}
