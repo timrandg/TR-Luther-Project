{
 "cells": [
  {
   "cell_type": "code",
   "execution_count": null,
   "metadata": {},
   "outputs": [],
   "source": [
    "import numpy as np\n",
    "import statsmodels.api as sm\n",
    "import statsmodels.formula.api as smf"
   ]
  },
  {
   "cell_type": "code",
   "execution_count": 35,
   "metadata": {},
   "outputs": [],
   "source": [
    "clean_data_10 = pd.read_pickle('./pickles/clean_data_10_20181010_205648.pkl')\n",
    "clean_data_10.columns = ['CNT', 'YR', 'SUB_REGION', 'log_MORT_RATE', 'log_FORR_AREA',\n",
    "       'log_GPC_ATL', 'log_POP_TOT', 'log_CO2_PERCAP', 'MORT_RATE', 'POP_GRO',\n",
    "       'URB_GRO', 'FER_RATE', 'GDP_GROW', 'IMM_MEAS', 'LIF_EXP',\n",
    "       'TEEN_FER_RATE', 'Australia_and_New_Zealand', 'Central_Asia',\n",
    "       'Eastern_Asia', 'Eastern_Europe', 'Latin_America_and_the_Caribbean',\n",
    "       'Melanesia', 'Micronesia', 'Northern_Africa', 'Northern_America',\n",
    "       'Northern_Europe', 'Polynesia', 'South_eastern_Asia', 'Southern_Asia',\n",
    "       'Southern_Europe', 'Sub_Saharan_Africa', 'Western_Asia',\n",
    "       'Western_Europe']"
   ]
  },
  {
   "cell_type": "code",
   "execution_count": 45,
   "metadata": {},
   "outputs": [],
   "source": [
    "#for smf.ols we do not have to split the Xy matrix up, just leave in tact. \n",
    "Xy_train, Xy_test = train_test_split(clean_data_10, test_size=0.3)"
   ]
  },
  {
   "cell_type": "code",
   "execution_count": 47,
   "metadata": {},
   "outputs": [
    {
     "data": {
      "text/plain": [
       "Int64Index([341, 205, 155, 207,  78, 359, 165, 502, 362, 520,\n",
       "            ...\n",
       "            370, 393, 408, 102, 539, 499, 411, 280, 114,  33],\n",
       "           dtype='int64', length=175)"
      ]
     },
     "execution_count": 47,
     "metadata": {},
     "output_type": "execute_result"
    }
   ],
   "source": [
    "Xy_test.index"
   ]
  },
  {
   "cell_type": "markdown",
   "metadata": {},
   "source": [
    "## Train and summarize"
   ]
  },
  {
   "cell_type": "code",
   "execution_count": 40,
   "metadata": {
    "scrolled": false
   },
   "outputs": [
    {
     "name": "stdout",
     "output_type": "stream",
     "text": [
      "                            OLS Regression Results                            \n",
      "==============================================================================\n",
      "Dep. Variable:          log_MORT_RATE   R-squared:                       0.942\n",
      "Model:                            OLS   Adj. R-squared:                  0.942\n",
      "Method:                 Least Squares   F-statistic:                     1308.\n",
      "Date:                Thu, 11 Oct 2018   Prob (F-statistic):          2.57e-245\n",
      "Time:                        22:26:33   Log-Likelihood:                -68.504\n",
      "No. Observations:                 406   AIC:                             149.0\n",
      "Df Residuals:                     400   BIC:                             173.0\n",
      "Df Model:                           5                                         \n",
      "Covariance Type:            nonrobust                                         \n",
      "=========================================================================================\n",
      "                            coef    std err          t      P>|t|      [0.025      0.975]\n",
      "-----------------------------------------------------------------------------------------\n",
      "Intercept                 6.0173      0.214     28.154      0.000       5.597       6.438\n",
      "np.power(LIF_EXP, 2)     -0.0005   3.24e-05    -14.008      0.000      -0.001      -0.000\n",
      "np.log(FER_RATE)          0.4888      0.056      8.753      0.000       0.379       0.599\n",
      "np.log(TEEN_FER_RATE)     0.1715      0.025      6.736      0.000       0.121       0.222\n",
      "Sub_Saharan_Africa       -0.2155      0.054     -3.994      0.000      -0.322      -0.109\n",
      "log_GPC_ATL              -0.2100      0.019    -11.114      0.000      -0.247      -0.173\n",
      "==============================================================================\n",
      "Omnibus:                        4.045   Durbin-Watson:                   2.062\n",
      "Prob(Omnibus):                  0.132   Jarque-Bera (JB):                4.118\n",
      "Skew:                          -0.152   Prob(JB):                        0.128\n",
      "Kurtosis:                       3.389   Cond. No.                     7.53e+04\n",
      "==============================================================================\n",
      "\n",
      "Warnings:\n",
      "[1] Standard Errors assume that the covariance matrix of the errors is correctly specified.\n",
      "[2] The condition number is large, 7.53e+04. This might indicate that there are\n",
      "strong multicollinearity or other numerical problems.\n"
     ]
    }
   ],
   "source": [
    "results = smf.ols('log_MORT_RATE ~ np.power(LIF_EXP,2) + np.log(FER_RATE) + np.log(TEEN_FER_RATE) + Sub_Saharan_Africa + log_GPC_ATL', data=Xy_train).fit()\n",
    "print(results.summary())"
   ]
  },
  {
   "cell_type": "code",
   "execution_count": 53,
   "metadata": {},
   "outputs": [
    {
     "name": "stdout",
     "output_type": "stream",
     "text": [
      "0.08635373140446277\n"
     ]
    }
   ],
   "source": [
    "Xy_train\n",
    "y_train = Xy_train.log_MORT_RATE\n",
    "mse_train=np.mean((y_train-results.predict(Xy_train))**2)\n",
    "print(mse_train)"
   ]
  },
  {
   "cell_type": "markdown",
   "metadata": {},
   "source": [
    "## Testing On the Test Set"
   ]
  },
  {
   "cell_type": "code",
   "execution_count": 50,
   "metadata": {},
   "outputs": [
    {
     "name": "stdout",
     "output_type": "stream",
     "text": [
      "                            OLS Regression Results                            \n",
      "==============================================================================\n",
      "Dep. Variable:          log_MORT_RATE   R-squared:                       0.944\n",
      "Model:                            OLS   Adj. R-squared:                  0.943\n",
      "Method:                 Least Squares   F-statistic:                     573.8\n",
      "Date:                Thu, 11 Oct 2018   Prob (F-statistic):          5.19e-104\n",
      "Time:                        23:53:54   Log-Likelihood:                -23.687\n",
      "No. Observations:                 175   AIC:                             59.37\n",
      "Df Residuals:                     169   BIC:                             78.36\n",
      "Df Model:                           5                                         \n",
      "Covariance Type:            nonrobust                                         \n",
      "=========================================================================================\n",
      "                            coef    std err          t      P>|t|      [0.025      0.975]\n",
      "-----------------------------------------------------------------------------------------\n",
      "Intercept                 5.7469      0.318     18.068      0.000       5.119       6.375\n",
      "np.power(LIF_EXP, 2)     -0.0004   4.87e-05     -8.530      0.000      -0.001      -0.000\n",
      "np.log(FER_RATE)          0.5062      0.081      6.215      0.000       0.345       0.667\n",
      "np.log(TEEN_FER_RATE)     0.1726      0.035      4.951      0.000       0.104       0.241\n",
      "Sub_Saharan_Africa       -0.1474      0.077     -1.913      0.057      -0.299       0.005\n",
      "log_GPC_ATL              -0.2046      0.030     -6.870      0.000      -0.263      -0.146\n",
      "==============================================================================\n",
      "Omnibus:                        0.183   Durbin-Watson:                   1.939\n",
      "Prob(Omnibus):                  0.913   Jarque-Bera (JB):                0.279\n",
      "Skew:                           0.072   Prob(JB):                        0.870\n",
      "Kurtosis:                       2.867   Cond. No.                     7.48e+04\n",
      "==============================================================================\n",
      "\n",
      "Warnings:\n",
      "[1] Standard Errors assume that the covariance matrix of the errors is correctly specified.\n",
      "[2] The condition number is large, 7.48e+04. This might indicate that there are\n",
      "strong multicollinearity or other numerical problems.\n",
      "0.0767521520229518\n"
     ]
    }
   ],
   "source": [
    "results = smf.ols('log_MORT_RATE ~ np.power(LIF_EXP,2) + np.log(FER_RATE) + np.log(TEEN_FER_RATE) + Sub_Saharan_Africa + log_GPC_ATL', data=Xy_test).fit()\n",
    "print(results.summary())\n",
    "\n"
   ]
  },
  {
   "cell_type": "code",
   "execution_count": 51,
   "metadata": {},
   "outputs": [
    {
     "name": "stdout",
     "output_type": "stream",
     "text": [
      "0.0767521520229518\n"
     ]
    }
   ],
   "source": [
    "Xy_test\n",
    "y_test = Xy_test.log_MORT_RATE\n",
    "mse_test=np.mean((y_test-results.predict(Xy_test))**2)\n",
    "print(mse_test)"
   ]
  },
  {
   "cell_type": "code",
   "execution_count": null,
   "metadata": {},
   "outputs": [],
   "source": []
  }
 ],
 "metadata": {
  "kernelspec": {
   "display_name": "Python 3",
   "language": "python",
   "name": "python3"
  },
  "language_info": {
   "codemirror_mode": {
    "name": "ipython",
    "version": 3
   },
   "file_extension": ".py",
   "mimetype": "text/x-python",
   "name": "python",
   "nbconvert_exporter": "python",
   "pygments_lexer": "ipython3",
   "version": "3.6.5"
  }
 },
 "nbformat": 4,
 "nbformat_minor": 2
}
